{
 "cells": [
  {
   "cell_type": "code",
   "execution_count": 1,
   "id": "9ccd807b-a98a-4f15-ba24-a5bd84de9f3d",
   "metadata": {},
   "outputs": [
    {
     "name": "stdout",
     "output_type": "stream",
     "text": [
      "WARNING:tensorflow:From E:\\anakonda\\lib\\site-packages\\keras\\src\\losses.py:2976: The name tf.losses.sparse_softmax_cross_entropy is deprecated. Please use tf.compat.v1.losses.sparse_softmax_cross_entropy instead.\n",
      "\n"
     ]
    }
   ],
   "source": [
    "import tensorflow as tf\n",
    "from tensorflow import keras\n",
    "import matplotlib.pyplot as plt\n",
    "%matplotlib inline\n",
    "import numpy as np"
   ]
  },
  {
   "cell_type": "code",
   "execution_count": 2,
   "id": "af55b1f8-2c60-4ca9-9435-51dcd6347c10",
   "metadata": {},
   "outputs": [],
   "source": [
    "(x_train,y_train),(x_test,y_test) = keras.datasets.cifar10.load_data()"
   ]
  },
  {
   "cell_type": "code",
   "execution_count": 3,
   "id": "a319819a-ac4a-499c-98b3-c96cd2c8b7e8",
   "metadata": {},
   "outputs": [
    {
     "data": {
      "text/plain": [
       "(50000, 32, 32, 3)"
      ]
     },
     "execution_count": 3,
     "metadata": {},
     "output_type": "execute_result"
    }
   ],
   "source": [
    "x_train.shape"
   ]
  },
  {
   "cell_type": "code",
   "execution_count": 4,
   "id": "1762e97b-f7ab-49f3-8542-f3066eea3ff4",
   "metadata": {},
   "outputs": [
    {
     "data": {
      "text/plain": [
       "array([[[ 59,  62,  63],\n",
       "        [ 43,  46,  45],\n",
       "        [ 50,  48,  43],\n",
       "        ...,\n",
       "        [158, 132, 108],\n",
       "        [152, 125, 102],\n",
       "        [148, 124, 103]],\n",
       "\n",
       "       [[ 16,  20,  20],\n",
       "        [  0,   0,   0],\n",
       "        [ 18,   8,   0],\n",
       "        ...,\n",
       "        [123,  88,  55],\n",
       "        [119,  83,  50],\n",
       "        [122,  87,  57]],\n",
       "\n",
       "       [[ 25,  24,  21],\n",
       "        [ 16,   7,   0],\n",
       "        [ 49,  27,   8],\n",
       "        ...,\n",
       "        [118,  84,  50],\n",
       "        [120,  84,  50],\n",
       "        [109,  73,  42]],\n",
       "\n",
       "       ...,\n",
       "\n",
       "       [[208, 170,  96],\n",
       "        [201, 153,  34],\n",
       "        [198, 161,  26],\n",
       "        ...,\n",
       "        [160, 133,  70],\n",
       "        [ 56,  31,   7],\n",
       "        [ 53,  34,  20]],\n",
       "\n",
       "       [[180, 139,  96],\n",
       "        [173, 123,  42],\n",
       "        [186, 144,  30],\n",
       "        ...,\n",
       "        [184, 148,  94],\n",
       "        [ 97,  62,  34],\n",
       "        [ 83,  53,  34]],\n",
       "\n",
       "       [[177, 144, 116],\n",
       "        [168, 129,  94],\n",
       "        [179, 142,  87],\n",
       "        ...,\n",
       "        [216, 184, 140],\n",
       "        [151, 118,  84],\n",
       "        [123,  92,  72]]], dtype=uint8)"
      ]
     },
     "execution_count": 4,
     "metadata": {},
     "output_type": "execute_result"
    }
   ],
   "source": [
    "x_train[0]"
   ]
  },
  {
   "cell_type": "code",
   "execution_count": 5,
   "id": "dcdc6ee0-b512-4f54-b81c-fb61ab70e4bf",
   "metadata": {},
   "outputs": [
    {
     "data": {
      "text/plain": [
       "<matplotlib.image.AxesImage at 0x286b531fa30>"
      ]
     },
     "execution_count": 5,
     "metadata": {},
     "output_type": "execute_result"
    },
    {
     "data": {
      "image/png": "[encoded data removed]",
      "text/plain": [
       "<Figure size 480x480 with 1 Axes>"
      ]
     },
     "metadata": {},
     "output_type": "display_data"
    }
   ],
   "source": [
    "plt.matshow(x_train[0])"
   ]
  },
  {
   "cell_type": "code",
   "execution_count": 6,
   "id": "310c1cff-3969-4e65-bd21-f13522e332b4",
   "metadata": {},
   "outputs": [
    {
     "data": {
      "text/plain": [
       "array([6], dtype=uint8)"
      ]
     },
     "execution_count": 6,
     "metadata": {},
     "output_type": "execute_result"
    }
   ],
   "source": [
    "y_train[0]"
   ]
  },
  {
   "cell_type": "code",
   "execution_count": 7,
   "id": "efe87455-199d-43ea-9f9b-31bca3c16fdf",
   "metadata": {},
   "outputs": [
    {
     "data": {
      "text/plain": [
       "(32, 32, 3)"
      ]
     },
     "execution_count": 7,
     "metadata": {},
     "output_type": "execute_result"
    }
   ],
   "source": [
    "x_train[0].shape"
   ]
  },
  {
   "cell_type": "code",
   "execution_count": 8,
   "id": "eeb32d83-36f7-4d6c-93e6-57c754f5680f",
   "metadata": {},
   "outputs": [
    {
     "data": {
      "text/plain": [
       "(50000, 1)"
      ]
     },
     "execution_count": 8,
     "metadata": {},
     "output_type": "execute_result"
    }
   ],
   "source": [
    "y_train.shape"
   ]
  },
  {
   "cell_type": "code",
   "execution_count": 9,
   "id": "5a6fa911-986c-4936-ada8-cc955665e1f9",
   "metadata": {},
   "outputs": [],
   "source": [
    "def plot(index):\n",
    "    plt.figure(figsize=(10,2))\n",
    "    plt.imshow(x_train[index])\n",
    "    print(y_train[index])"
   ]
  },
  {
   "cell_type": "code",
   "execution_count": 10,
   "id": "8f510d96-fa58-4f22-bfd4-d6ec41fcc72a",
   "metadata": {},
   "outputs": [
    {
     "name": "stdout",
     "output_type": "stream",
     "text": [
      "[6]\n"
     ]
    },
    {
     "data": {
      "image/png": "[encoded data removed]",
      "text/plain": [
       "<Figure size 1000x200 with 1 Axes>"
      ]
     },
     "metadata": {},
     "output_type": "display_data"
    }
   ],
   "source": [
    "plot(0)"
   ]
  },
  {
   "cell_type": "code",
   "execution_count": 11,
   "id": "47c5125d-372c-4662-a264-e2afdef5fa94",
   "metadata": {},
   "outputs": [],
   "source": [
    "classes = [\"airplane\",\"automobile\",\"bird\",\"cat\",\"deer\",\"dog\",\"frog\",\"horse\",\"ship\",\"truck\"]"
   ]
  },
  {
   "cell_type": "code",
   "execution_count": 12,
   "id": "6401a2b4-ec6a-4f65-87de-38d9e18c87e2",
   "metadata": {},
   "outputs": [
    {
     "name": "stdout",
     "output_type": "stream",
     "text": [
      "[9]\n"
     ]
    },
    {
     "data": {
      "image/png": "[encoded data removed]",
      "text/plain": [
       "<Figure size 1000x200 with 1 Axes>"
      ]
     },
     "metadata": {},
     "output_type": "display_data"
    }
   ],
   "source": [
    "plot(1)"
   ]
  },
  {
   "cell_type": "code",
   "execution_count": 13,
   "id": "bb538073-46c5-4cef-907e-c0676509f863",
   "metadata": {},
   "outputs": [
    {
     "name": "stdout",
     "output_type": "stream",
     "text": [
      "[9]\n"
     ]
    },
    {
     "data": {
      "image/png": "[encoded data removed]",
      "text/plain": [
       "<Figure size 1000x200 with 1 Axes>"
      ]
     },
     "metadata": {},
     "output_type": "display_data"
    }
   ],
   "source": [
    "plot(2)"
   ]
  },
  {
   "cell_type": "code",
   "execution_count": 14,
   "id": "89686727-cbdc-4867-b771-05dea93829f9",
   "metadata": {},
   "outputs": [
    {
     "name": "stdout",
     "output_type": "stream",
     "text": [
      "[4]\n"
     ]
    },
    {
     "data": {
      "image/png": "[encoded data removed]",
      "text/plain": [
       "<Figure size 1000x200 with 1 Axes>"
      ]
     },
     "metadata": {},
     "output_type": "display_data"
    }
   ],
   "source": [
    "plot(3)"
   ]
  },
  {
   "cell_type": "code",
   "execution_count": 15,
   "id": "578170ea-dd8b-4757-aa36-550e562e8704",
   "metadata": {},
   "outputs": [
    {
     "data": {
      "text/plain": [
       "'deer'"
      ]
     },
     "execution_count": 15,
     "metadata": {},
     "output_type": "execute_result"
    }
   ],
   "source": [
    "classes[y_train[3][0]]"
   ]
  },
  {
   "cell_type": "code",
   "execution_count": 16,
   "id": "de33db78-6d8a-4274-b08f-523b058d77b4",
   "metadata": {},
   "outputs": [
    {
     "data": {
      "text/plain": [
       "(50000, 32, 32, 3)"
      ]
     },
     "execution_count": 16,
     "metadata": {},
     "output_type": "execute_result"
    }
   ],
   "source": [
    "x_train.shape"
   ]
  },
  {
   "cell_type": "code",
   "execution_count": 17,
   "id": "a6efafdd-450e-4b24-ace6-d01d38300f2f",
   "metadata": {},
   "outputs": [
    {
     "data": {
      "text/plain": [
       "array([[[[ 59,  62,  63],\n",
       "         [ 43,  46,  45],\n",
       "         [ 50,  48,  43],\n",
       "         ...,\n",
       "         [158, 132, 108],\n",
       "         [152, 125, 102],\n",
       "         [148, 124, 103]],\n",
       "\n",
       "        [[ 16,  20,  20],\n",
       "         [  0,   0,   0],\n",
       "         [ 18,   8,   0],\n",
       "         ...,\n",
       "         [123,  88,  55],\n",
       "         [119,  83,  50],\n",
       "         [122,  87,  57]],\n",
       "\n",
       "        [[ 25,  24,  21],\n",
       "         [ 16,   7,   0],\n",
       "         [ 49,  27,   8],\n",
       "         ...,\n",
       "         [118,  84,  50],\n",
       "         [120,  84,  50],\n",
       "         [109,  73,  42]],\n",
       "\n",
       "        ...,\n",
       "\n",
       "        [[208, 170,  96],\n",
       "         [201, 153,  34],\n",
       "         [198, 161,  26],\n",
       "         ...,\n",
       "         [160, 133,  70],\n",
       "         [ 56,  31,   7],\n",
       "         [ 53,  34,  20]],\n",
       "\n",
       "        [[180, 139,  96],\n",
       "         [173, 123,  42],\n",
       "         [186, 144,  30],\n",
       "         ...,\n",
       "         [184, 148,  94],\n",
       "         [ 97,  62,  34],\n",
       "         [ 83,  53,  34]],\n",
       "\n",
       "        [[177, 144, 116],\n",
       "         [168, 129,  94],\n",
       "         [179, 142,  87],\n",
       "         ...,\n",
       "         [216, 184, 140],\n",
       "         [151, 118,  84],\n",
       "         [123,  92,  72]]],\n",
       "\n",
       "\n",
       "       [[[154, 177, 187],\n",
       "         [126, 137, 136],\n",
       "         [105, 104,  95],\n",
       "         ...,\n",
       "         [ 91,  95,  71],\n",
       "         [ 87,  90,  71],\n",
       "         [ 79,  81,  70]],\n",
       "\n",
       "        [[140, 160, 169],\n",
       "         [145, 153, 154],\n",
       "         [125, 125, 118],\n",
       "         ...,\n",
       "         [ 96,  99,  78],\n",
       "         [ 77,  80,  62],\n",
       "         [ 71,  73,  61]],\n",
       "\n",
       "        [[140, 155, 164],\n",
       "         [139, 146, 149],\n",
       "         [115, 115, 112],\n",
       "         ...,\n",
       "         [ 79,  82,  64],\n",
       "         [ 68,  70,  55],\n",
       "         [ 67,  69,  55]],\n",
       "\n",
       "        ...,\n",
       "\n",
       "        [[175, 167, 166],\n",
       "         [156, 154, 160],\n",
       "         [154, 160, 170],\n",
       "         ...,\n",
       "         [ 42,  34,  36],\n",
       "         [ 61,  53,  57],\n",
       "         [ 93,  83,  91]],\n",
       "\n",
       "        [[165, 154, 128],\n",
       "         [156, 152, 130],\n",
       "         [159, 161, 142],\n",
       "         ...,\n",
       "         [103,  93,  96],\n",
       "         [123, 114, 120],\n",
       "         [131, 121, 131]],\n",
       "\n",
       "        [[163, 148, 120],\n",
       "         [158, 148, 122],\n",
       "         [163, 156, 133],\n",
       "         ...,\n",
       "         [143, 133, 139],\n",
       "         [143, 134, 142],\n",
       "         [143, 133, 144]]],\n",
       "\n",
       "\n",
       "       [[[255, 255, 255],\n",
       "         [253, 253, 253],\n",
       "         [253, 253, 253],\n",
       "         ...,\n",
       "         [253, 253, 253],\n",
       "         [253, 253, 253],\n",
       "         [253, 253, 253]],\n",
       "\n",
       "        [[255, 255, 255],\n",
       "         [255, 255, 255],\n",
       "         [255, 255, 255],\n",
       "         ...,\n",
       "         [255, 255, 255],\n",
       "         [255, 255, 255],\n",
       "         [255, 255, 255]],\n",
       "\n",
       "        [[255, 255, 255],\n",
       "         [254, 254, 254],\n",
       "         [254, 254, 254],\n",
       "         ...,\n",
       "         [254, 254, 254],\n",
       "         [254, 254, 254],\n",
       "         [254, 254, 254]],\n",
       "\n",
       "        ...,\n",
       "\n",
       "        [[113, 120, 112],\n",
       "         [111, 118, 111],\n",
       "         [105, 112, 106],\n",
       "         ...,\n",
       "         [ 72,  81,  80],\n",
       "         [ 72,  80,  79],\n",
       "         [ 72,  80,  79]],\n",
       "\n",
       "        [[111, 118, 110],\n",
       "         [104, 111, 104],\n",
       "         [ 99, 106,  98],\n",
       "         ...,\n",
       "         [ 68,  75,  73],\n",
       "         [ 70,  76,  75],\n",
       "         [ 78,  84,  82]],\n",
       "\n",
       "        [[106, 113, 105],\n",
       "         [ 99, 106,  98],\n",
       "         [ 95, 102,  94],\n",
       "         ...,\n",
       "         [ 78,  85,  83],\n",
       "         [ 79,  85,  83],\n",
       "         [ 80,  86,  84]]],\n",
       "\n",
       "\n",
       "       ...,\n",
       "\n",
       "\n",
       "       [[[ 35, 178, 235],\n",
       "         [ 40, 176, 239],\n",
       "         [ 42, 176, 241],\n",
       "         ...,\n",
       "         [ 99, 177, 219],\n",
       "         [ 79, 147, 197],\n",
       "         [ 89, 148, 189]],\n",
       "\n",
       "        [[ 57, 182, 234],\n",
       "         [ 44, 184, 250],\n",
       "         [ 50, 183, 240],\n",
       "         ...,\n",
       "         [156, 182, 200],\n",
       "         [141, 177, 206],\n",
       "         [116, 149, 175]],\n",
       "\n",
       "        [[ 98, 197, 237],\n",
       "         [ 64, 189, 252],\n",
       "         [ 69, 192, 245],\n",
       "         ...,\n",
       "         [188, 195, 206],\n",
       "         [119, 135, 147],\n",
       "         [ 61,  79,  90]],\n",
       "\n",
       "        ...,\n",
       "\n",
       "        [[ 73,  79,  77],\n",
       "         [ 53,  63,  68],\n",
       "         [ 54,  68,  80],\n",
       "         ...,\n",
       "         [ 17,  40,  64],\n",
       "         [ 21,  36,  51],\n",
       "         [ 33,  48,  49]],\n",
       "\n",
       "        [[ 61,  68,  75],\n",
       "         [ 55,  70,  86],\n",
       "         [ 57,  79, 103],\n",
       "         ...,\n",
       "         [ 24,  48,  72],\n",
       "         [ 17,  35,  53],\n",
       "         [  7,  23,  32]],\n",
       "\n",
       "        [[ 44,  56,  73],\n",
       "         [ 46,  66,  88],\n",
       "         [ 49,  77, 105],\n",
       "         ...,\n",
       "         [ 27,  52,  77],\n",
       "         [ 21,  43,  66],\n",
       "         [ 12,  31,  50]]],\n",
       "\n",
       "\n",
       "       [[[189, 211, 240],\n",
       "         [186, 208, 236],\n",
       "         [185, 207, 235],\n",
       "         ...,\n",
       "         [175, 195, 224],\n",
       "         [172, 194, 222],\n",
       "         [169, 194, 220]],\n",
       "\n",
       "        [[194, 210, 239],\n",
       "         [191, 207, 236],\n",
       "         [190, 206, 235],\n",
       "         ...,\n",
       "         [173, 192, 220],\n",
       "         [171, 191, 218],\n",
       "         [167, 190, 216]],\n",
       "\n",
       "        [[208, 219, 244],\n",
       "         [205, 216, 240],\n",
       "         [204, 215, 239],\n",
       "         ...,\n",
       "         [175, 191, 217],\n",
       "         [172, 190, 216],\n",
       "         [169, 191, 215]],\n",
       "\n",
       "        ...,\n",
       "\n",
       "        [[207, 199, 181],\n",
       "         [203, 195, 175],\n",
       "         [203, 196, 173],\n",
       "         ...,\n",
       "         [135, 132, 127],\n",
       "         [162, 158, 150],\n",
       "         [168, 163, 151]],\n",
       "\n",
       "        [[198, 190, 170],\n",
       "         [189, 181, 159],\n",
       "         [180, 172, 147],\n",
       "         ...,\n",
       "         [178, 171, 160],\n",
       "         [175, 169, 156],\n",
       "         [175, 169, 154]],\n",
       "\n",
       "        [[198, 189, 173],\n",
       "         [189, 181, 162],\n",
       "         [178, 170, 149],\n",
       "         ...,\n",
       "         [195, 184, 169],\n",
       "         [196, 189, 171],\n",
       "         [195, 190, 171]]],\n",
       "\n",
       "\n",
       "       [[[229, 229, 239],\n",
       "         [236, 237, 247],\n",
       "         [234, 236, 247],\n",
       "         ...,\n",
       "         [217, 219, 233],\n",
       "         [221, 223, 234],\n",
       "         [222, 223, 233]],\n",
       "\n",
       "        [[222, 221, 229],\n",
       "         [239, 239, 249],\n",
       "         [233, 234, 246],\n",
       "         ...,\n",
       "         [223, 223, 236],\n",
       "         [227, 228, 238],\n",
       "         [210, 211, 220]],\n",
       "\n",
       "        [[213, 206, 211],\n",
       "         [234, 232, 239],\n",
       "         [231, 233, 244],\n",
       "         ...,\n",
       "         [220, 220, 232],\n",
       "         [220, 219, 232],\n",
       "         [202, 203, 215]],\n",
       "\n",
       "        ...,\n",
       "\n",
       "        [[150, 143, 135],\n",
       "         [140, 135, 127],\n",
       "         [132, 127, 120],\n",
       "         ...,\n",
       "         [224, 222, 218],\n",
       "         [230, 228, 225],\n",
       "         [241, 241, 238]],\n",
       "\n",
       "        [[137, 132, 126],\n",
       "         [130, 127, 120],\n",
       "         [125, 121, 115],\n",
       "         ...,\n",
       "         [181, 180, 178],\n",
       "         [202, 201, 198],\n",
       "         [212, 211, 207]],\n",
       "\n",
       "        [[122, 119, 114],\n",
       "         [118, 116, 110],\n",
       "         [120, 116, 111],\n",
       "         ...,\n",
       "         [179, 177, 173],\n",
       "         [164, 164, 162],\n",
       "         [163, 163, 161]]]], dtype=uint8)"
      ]
     },
     "execution_count": 17,
     "metadata": {},
     "output_type": "execute_result"
    }
   ],
   "source": [
    "x_train"
   ]
  },
  {
   "cell_type": "code",
   "execution_count": 18,
   "id": "2efb02b1-d8a7-4403-91f3-023d4fb83cd1",
   "metadata": {},
   "outputs": [],
   "source": [
    "x_train_scaled = x_train / 255\n",
    "x_test_scaled = x_test / 255"
   ]
  },
  {
   "cell_type": "code",
   "execution_count": 19,
   "id": "25c5f709-1e4c-4d94-ae00-734a332a484e",
   "metadata": {},
   "outputs": [],
   "source": [
    "y_train_categorical = keras.utils.to_categorical(\n",
    "    y_train, num_classes=10, dtype='float32'\n",
    ")\n",
    "y_test_categorical = keras.utils.to_categorical(\n",
    "    y_test, num_classes=10, dtype='float32'\n",
    ")"
   ]
  },
  {
   "cell_type": "code",
   "execution_count": 20,
   "id": "98091e2a-ee5b-49e7-9acc-3a09d984b0dc",
   "metadata": {},
   "outputs": [
    {
     "data": {
      "text/plain": [
       "array([[0., 0., 0., 0., 0., 0., 1., 0., 0., 0.],\n",
       "       [0., 0., 0., 0., 0., 0., 0., 0., 0., 1.],\n",
       "       [0., 0., 0., 0., 0., 0., 0., 0., 0., 1.],\n",
       "       [0., 0., 0., 0., 1., 0., 0., 0., 0., 0.],\n",
       "       [0., 1., 0., 0., 0., 0., 0., 0., 0., 0.]], dtype=float32)"
      ]
     },
     "execution_count": 20,
     "metadata": {},
     "output_type": "execute_result"
    }
   ],
   "source": [
    "y_train_categorical[0:5]"
   ]
  },
  {
   "cell_type": "code",
   "execution_count": 21,
   "id": "66641eba-afbc-4185-9ce6-99ab8af7fdda",
   "metadata": {
    "scrolled": true
   },
   "outputs": [
    {
     "name": "stdout",
     "output_type": "stream",
     "text": [
      "WARNING:tensorflow:From E:\\anakonda\\lib\\site-packages\\keras\\src\\backend.py:873: The name tf.get_default_graph is deprecated. Please use tf.compat.v1.get_default_graph instead.\n",
      "\n",
      "WARNING:tensorflow:From E:\\anakonda\\lib\\site-packages\\keras\\src\\optimizers\\__init__.py:309: The name tf.train.Optimizer is deprecated. Please use tf.compat.v1.train.Optimizer instead.\n",
      "\n",
      "Epoch 1/50\n",
      "WARNING:tensorflow:From E:\\anakonda\\lib\\site-packages\\keras\\src\\utils\\tf_utils.py:492: The name tf.ragged.RaggedTensorValue is deprecated. Please use tf.compat.v1.ragged.RaggedTensorValue instead.\n",
      "\n",
      "WARNING:tensorflow:From E:\\anakonda\\lib\\site-packages\\keras\\src\\engine\\base_layer_utils.py:384: The name tf.executing_eagerly_outside_functions is deprecated. Please use tf.compat.v1.executing_eagerly_outside_functions instead.\n",
      "\n",
      "1563/1563 [==============================] - 26s 16ms/step - loss: 1.8278 - accuracy: 0.3508\n",
      "Epoch 2/50\n",
      "1563/1563 [==============================] - 25s 16ms/step - loss: 1.6492 - accuracy: 0.4226\n",
      "Epoch 3/50\n",
      "1563/1563 [==============================] - 25s 16ms/step - loss: 1.5717 - accuracy: 0.4515\n",
      "Epoch 4/50\n",
      "1563/1563 [==============================] - 25s 16ms/step - loss: 1.5180 - accuracy: 0.4700\n",
      "Epoch 5/50\n",
      "1563/1563 [==============================] - 25s 16ms/step - loss: 1.4753 - accuracy: 0.4837\n",
      "Epoch 6/50\n",
      "1563/1563 [==============================] - 25s 16ms/step - loss: 1.4378 - accuracy: 0.5003\n",
      "Epoch 7/50\n",
      "1563/1563 [==============================] - 25s 16ms/step - loss: 1.4064 - accuracy: 0.5102\n",
      "Epoch 8/50\n",
      "1563/1563 [==============================] - 25s 16ms/step - loss: 1.3763 - accuracy: 0.5192\n",
      "Epoch 9/50\n",
      "1563/1563 [==============================] - 25s 16ms/step - loss: 1.3501 - accuracy: 0.5288\n",
      "Epoch 10/50\n",
      "1563/1563 [==============================] - 25s 16ms/step - loss: 1.3257 - accuracy: 0.5395\n",
      "Epoch 11/50\n",
      "1563/1563 [==============================] - 26s 17ms/step - loss: 1.2999 - accuracy: 0.5489\n",
      "Epoch 12/50\n",
      "1563/1563 [==============================] - 27s 17ms/step - loss: 1.2805 - accuracy: 0.5542\n",
      "Epoch 13/50\n",
      "1563/1563 [==============================] - 27s 17ms/step - loss: 1.2590 - accuracy: 0.5616\n",
      "Epoch 14/50\n",
      "1563/1563 [==============================] - 25s 16ms/step - loss: 1.2388 - accuracy: 0.5683\n",
      "Epoch 15/50\n",
      "1563/1563 [==============================] - 25s 16ms/step - loss: 1.2198 - accuracy: 0.5782\n",
      "Epoch 16/50\n",
      "1563/1563 [==============================] - 25s 16ms/step - loss: 1.2013 - accuracy: 0.5829\n",
      "Epoch 17/50\n",
      "1563/1563 [==============================] - 26s 17ms/step - loss: 1.1822 - accuracy: 0.5911\n",
      "Epoch 18/50\n",
      "1563/1563 [==============================] - 27s 18ms/step - loss: 1.1662 - accuracy: 0.5957\n",
      "Epoch 19/50\n",
      "1563/1563 [==============================] - 26s 17ms/step - loss: 1.1483 - accuracy: 0.6023\n",
      "Epoch 20/50\n",
      "1563/1563 [==============================] - 26s 16ms/step - loss: 1.1328 - accuracy: 0.6083\n",
      "Epoch 21/50\n",
      "1563/1563 [==============================] - 26s 17ms/step - loss: 1.1135 - accuracy: 0.6160\n",
      "Epoch 22/50\n",
      "1563/1563 [==============================] - 26s 17ms/step - loss: 1.0989 - accuracy: 0.6207\n",
      "Epoch 23/50\n",
      "1563/1563 [==============================] - 26s 16ms/step - loss: 1.0809 - accuracy: 0.6276\n",
      "Epoch 24/50\n",
      "1563/1563 [==============================] - 25s 16ms/step - loss: 1.0646 - accuracy: 0.6320\n",
      "Epoch 25/50\n",
      "1563/1563 [==============================] - 25s 16ms/step - loss: 1.0504 - accuracy: 0.6361\n",
      "Epoch 26/50\n",
      "1563/1563 [==============================] - 26s 16ms/step - loss: 1.0346 - accuracy: 0.6461\n",
      "Epoch 27/50\n",
      "1563/1563 [==============================] - 25s 16ms/step - loss: 1.0220 - accuracy: 0.6494\n",
      "Epoch 28/50\n",
      "1563/1563 [==============================] - 26s 16ms/step - loss: 1.0043 - accuracy: 0.6556\n",
      "Epoch 29/50\n",
      "1563/1563 [==============================] - 25s 16ms/step - loss: 0.9923 - accuracy: 0.6579\n",
      "Epoch 30/50\n",
      "1563/1563 [==============================] - 25s 16ms/step - loss: 0.9749 - accuracy: 0.6637\n",
      "Epoch 31/50\n",
      "1563/1563 [==============================] - 25s 16ms/step - loss: 0.9608 - accuracy: 0.6683\n",
      "Epoch 32/50\n",
      "1563/1563 [==============================] - 25s 16ms/step - loss: 0.9453 - accuracy: 0.6755\n",
      "Epoch 33/50\n",
      "1563/1563 [==============================] - 26s 17ms/step - loss: 0.9326 - accuracy: 0.6833\n",
      "Epoch 34/50\n",
      "1563/1563 [==============================] - 26s 17ms/step - loss: 0.9165 - accuracy: 0.6861\n",
      "Epoch 35/50\n",
      "1563/1563 [==============================] - 26s 16ms/step - loss: 0.9022 - accuracy: 0.6914\n",
      "Epoch 36/50\n",
      "1563/1563 [==============================] - 26s 17ms/step - loss: 0.8872 - accuracy: 0.6976\n",
      "Epoch 37/50\n",
      "1563/1563 [==============================] - 27s 17ms/step - loss: 0.8733 - accuracy: 0.7032\n",
      "Epoch 38/50\n",
      "1563/1563 [==============================] - 28s 18ms/step - loss: 0.8616 - accuracy: 0.7096\n",
      "Epoch 39/50\n",
      "1563/1563 [==============================] - 25s 16ms/step - loss: 0.8451 - accuracy: 0.7127\n",
      "Epoch 40/50\n",
      "1563/1563 [==============================] - 26s 16ms/step - loss: 0.8313 - accuracy: 0.7169\n",
      "Epoch 41/50\n",
      "1563/1563 [==============================] - 26s 17ms/step - loss: 0.8177 - accuracy: 0.7230\n",
      "Epoch 42/50\n",
      "1563/1563 [==============================] - 25s 16ms/step - loss: 0.8039 - accuracy: 0.7280\n",
      "Epoch 43/50\n",
      "1563/1563 [==============================] - 29s 18ms/step - loss: 0.7902 - accuracy: 0.7337\n",
      "Epoch 44/50\n",
      "1563/1563 [==============================] - 31s 20ms/step - loss: 0.7769 - accuracy: 0.7381\n",
      "Epoch 45/50\n",
      "1563/1563 [==============================] - 29s 19ms/step - loss: 0.7629 - accuracy: 0.7413\n",
      "Epoch 46/50\n",
      "1563/1563 [==============================] - 28s 18ms/step - loss: 0.7486 - accuracy: 0.7490\n",
      "Epoch 47/50\n",
      "1563/1563 [==============================] - 25s 16ms/step - loss: 0.7331 - accuracy: 0.7550\n",
      "Epoch 48/50\n",
      "1563/1563 [==============================] - 25s 16ms/step - loss: 0.7249 - accuracy: 0.7576\n",
      "Epoch 49/50\n",
      "1563/1563 [==============================] - 25s 16ms/step - loss: 0.7086 - accuracy: 0.7630\n",
      "Epoch 50/50\n",
      "1563/1563 [==============================] - 25s 16ms/step - loss: 0.6961 - accuracy: 0.7681\n"
     ]
    },
    {
     "data": {
      "text/plain": [
       "<keras.src.callbacks.History at 0x286b87e0040>"
      ]
     },
     "execution_count": 21,
     "metadata": {},
     "output_type": "execute_result"
    }
   ],
   "source": [
    "model = keras.Sequential([\n",
    "        keras.layers.Flatten(input_shape=(32,32,3)),\n",
    "        keras.layers.Dense(3000, activation='relu'),\n",
    "        keras.layers.Dense(10, activation='sigmoid')    \n",
    "    ])\n",
    "\n",
    "model.compile(optimizer='SGD',\n",
    "              loss='categorical_crossentropy',\n",
    "              metrics=['accuracy'])\n",
    "\n",
    "model.fit(x_train_scaled, y_train_categorical, epochs=50)"
   ]
  },
  {
   "cell_type": "code",
   "execution_count": 22,
   "id": "b56edc11-f4d3-4d11-a981-15a048845a7e",
   "metadata": {},
   "outputs": [
    {
     "name": "stdout",
     "output_type": "stream",
     "text": [
      "313/313 [==============================] - 2s 6ms/step - loss: 1.3836 - accuracy: 0.5420\n"
     ]
    },
    {
     "data": {
      "text/plain": [
       "[1.383569359779358, 0.5419999957084656]"
      ]
     },
     "execution_count": 22,
     "metadata": {},
     "output_type": "execute_result"
    }
   ],
   "source": [
    "model.evaluate(x_test_scaled,y_test_categorical)"
   ]
  },
  {
   "cell_type": "code",
   "execution_count": 23,
   "id": "883a7bf5-53f8-4680-874c-878aedf2f5c7",
   "metadata": {},
   "outputs": [
    {
     "name": "stdout",
     "output_type": "stream",
     "text": [
      "313/313 [==============================] - 2s 6ms/step\n"
     ]
    },
    {
     "data": {
      "text/plain": [
       "array([3.2841852e-01, 5.2131450e-01, 8.5649842e-01, 9.9597996e-01,\n",
       "       7.9987323e-01, 7.7981257e-01, 2.8984401e-01, 8.4174512e-04,\n",
       "       7.1141195e-01, 2.1705353e-01], dtype=float32)"
      ]
     },
     "execution_count": 23,
     "metadata": {},
     "output_type": "execute_result"
    }
   ],
   "source": [
    "model.predict(x_test_scaled)[0]"
   ]
  },
  {
   "cell_type": "code",
   "execution_count": 24,
   "id": "b13a64ce-63c6-429e-bb66-3076dd3baf3a",
   "metadata": {},
   "outputs": [
    {
     "data": {
      "text/plain": [
       "array([[0., 0., 0., ..., 0., 0., 0.],\n",
       "       [0., 0., 0., ..., 0., 1., 0.],\n",
       "       [0., 0., 0., ..., 0., 1., 0.],\n",
       "       ...,\n",
       "       [0., 0., 0., ..., 0., 0., 0.],\n",
       "       [0., 1., 0., ..., 0., 0., 0.],\n",
       "       [0., 0., 0., ..., 1., 0., 0.]], dtype=float32)"
      ]
     },
     "execution_count": 24,
     "metadata": {},
     "output_type": "execute_result"
    }
   ],
   "source": [
    "y_test_categorical"
   ]
  },
  {
   "cell_type": "code",
   "execution_count": 25,
   "id": "ab11bcb1-f651-4d00-ad65-cb267455f844",
   "metadata": {},
   "outputs": [
    {
     "data": {
      "text/plain": [
       "array([0., 0., 0., 1., 0., 0., 0., 0., 0., 0.], dtype=float32)"
      ]
     },
     "execution_count": 25,
     "metadata": {},
     "output_type": "execute_result"
    }
   ],
   "source": [
    "y_test_categorical[0]"
   ]
  },
  {
   "cell_type": "code",
   "execution_count": 26,
   "id": "8df60785-2f10-4ecf-90f6-ed6b9ca22126",
   "metadata": {},
   "outputs": [
    {
     "data": {
      "text/plain": [
       "array([[3],\n",
       "       [8],\n",
       "       [8],\n",
       "       ...,\n",
       "       [5],\n",
       "       [1],\n",
       "       [7]], dtype=uint8)"
      ]
     },
     "execution_count": 26,
     "metadata": {},
     "output_type": "execute_result"
    }
   ],
   "source": [
    "y_test"
   ]
  },
  {
   "cell_type": "code",
   "execution_count": 30,
   "id": "cdebeb23-7c9e-4f64-8af2-7bffb0b0a554",
   "metadata": {},
   "outputs": [
    {
     "data": {
      "text/plain": [
       "'cat'"
      ]
     },
     "execution_count": 30,
     "metadata": {},
     "output_type": "execute_result"
    }
   ],
   "source": [
    "classes[y_test[0][0]]"
   ]
  },
  {
   "cell_type": "code",
   "execution_count": 31,
   "id": "aae5ad0e-caf1-49ab-bfb4-5d62dd5197e1",
   "metadata": {},
   "outputs": [
    {
     "data": {
      "text/plain": [
       "<matplotlib.image.AxesImage at 0x28723b054f0>"
      ]
     },
     "execution_count": 31,
     "metadata": {},
     "output_type": "execute_result"
    },
    {
     "data": {
      "image/png": "[encoded data removed]",
      "text/plain": [
       "<Figure size 480x480 with 1 Axes>"
      ]
     },
     "metadata": {},
     "output_type": "display_data"
    }
   ],
   "source": [
    "plt.matshow(x_test[0])"
   ]
  },
  {
   "cell_type": "code",
   "execution_count": 32,
   "id": "f3a6ea97-e22c-4adf-a3e6-3301704ba4e8",
   "metadata": {},
   "outputs": [],
   "source": [
    "def plot1(index):\n",
    "    plt.matshow(x_test[index])\n",
    "    plt.xlabel(class_names[y_test[index]])\n",
    "    "
   ]
  },
  {
   "cell_type": "code",
   "execution_count": 33,
   "id": "b665df51-d3aa-41d5-b797-aef3e9d18aec",
   "metadata": {},
   "outputs": [
    {
     "ename": "NameError",
     "evalue": "name 'class_names' is not defined",
     "output_type": "error",
     "traceback": [
      "\u001b[1;31m---------------------------------------------------------------------------\u001b[0m",
      "\u001b[1;31mNameError\u001b[0m                                 Traceback (most recent call last)",
      "Cell \u001b[1;32mIn[33], line 2\u001b[0m\n\u001b[0;32m      1\u001b[0m \u001b[38;5;28;01mfor\u001b[39;00m i \u001b[38;5;129;01min\u001b[39;00m \u001b[38;5;28mrange\u001b[39m(\u001b[38;5;241m0\u001b[39m,\u001b[38;5;241m16\u001b[39m):\n\u001b[1;32m----> 2\u001b[0m     \u001b[43mplot1\u001b[49m\u001b[43m(\u001b[49m\u001b[43mi\u001b[49m\u001b[43m)\u001b[49m\n",
      "Cell \u001b[1;32mIn[32], line 3\u001b[0m, in \u001b[0;36mplot1\u001b[1;34m(index)\u001b[0m\n\u001b[0;32m      1\u001b[0m \u001b[38;5;28;01mdef\u001b[39;00m \u001b[38;5;21mplot1\u001b[39m(index):\n\u001b[0;32m      2\u001b[0m     plt\u001b[38;5;241m.\u001b[39mmatshow(x_test[index])\n\u001b[1;32m----> 3\u001b[0m     plt\u001b[38;5;241m.\u001b[39mxlabel(\u001b[43mclass_names\u001b[49m[y_test[index]])\n",
      "\u001b[1;31mNameError\u001b[0m: name 'class_names' is not defined"
     ]
    },
    {
     "data": {
      "image/png": "[encoded data removed]",
      "text/plain": [
       "<Figure size 480x480 with 1 Axes>"
      ]
     },
     "metadata": {},
     "output_type": "display_data"
    }
   ],
   "source": [
    "for i in range(0,16):\n",
    "    plot1(i)"
   ]
  },
  {
   "cell_type": "code",
   "execution_count": null,
   "id": "47373805-0363-44ab-bbff-4a402a7514dd",
   "metadata": {},
   "outputs": [],
   "source": []
  }
 ],
 "metadata": {
  "kernelspec": {
   "display_name": "Python 3 (ipykernel)",
   "language": "python",
   "name": "python3"
  },
  "language_info": {
   "codemirror_mode": {
    "name": "ipython",
    "version": 3
   },
   "file_extension": ".py",
   "mimetype": "text/x-python",
   "name": "python",
   "nbconvert_exporter": "python",
   "pygments_lexer": "ipython3",
   "version": "3.9.18"
  }
 },
 "nbformat": 4,
 "nbformat_minor": 5
}
